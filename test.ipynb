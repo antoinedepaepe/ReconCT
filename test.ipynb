{
 "cells": [
  {
   "cell_type": "code",
   "execution_count": null,
   "id": "8639af10",
   "metadata": {},
   "outputs": [
    {
     "ename": "TypeError",
     "evalue": "'Radonski' object is not callable",
     "output_type": "error",
     "traceback": [
      "\u001b[0;31m---------------------------------------------------------------------------\u001b[0m",
      "\u001b[0;31mTypeError\u001b[0m                                 Traceback (most recent call last)",
      "Cell \u001b[0;32mIn[1], line 23\u001b[0m\n\u001b[1;32m     20\u001b[0m  \u001b[38;5;66;03m#check_transpose(radon,128,10)\u001b[39;00m\n\u001b[1;32m     22\u001b[0m x \u001b[38;5;241m=\u001b[39m np\u001b[38;5;241m.\u001b[39mload(\u001b[38;5;124m'\u001b[39m\u001b[38;5;124m./data/test_slices/50.npy\u001b[39m\u001b[38;5;124m'\u001b[39m)\n\u001b[0;32m---> 23\u001b[0m y \u001b[38;5;241m=\u001b[39m \u001b[43mradon\u001b[49m\u001b[43m(\u001b[49m\u001b[43mx\u001b[49m\u001b[43m)\u001b[49m \n\u001b[1;32m     24\u001b[0m \u001b[38;5;28mprint\u001b[39m(\u001b[38;5;28msum\u001b[39m(y))\n",
      "\u001b[0;31mTypeError\u001b[0m: 'Radonski' object is not callable"
     ]
    }
   ],
   "source": [
    "import numpy as np\n",
    "import matplotlib.pyplot as plt\n",
    "# import skimage as ski\n",
    "\n",
    "from skimage.data import shepp_logan_phantom\n",
    "from skimage.transform import radon, rescale\n",
    "from src.operators.radonski import Radonski\n",
    "\n",
    "import src.utils.misc as misc    # make sure you import the module, not just the function\n",
    "from src.utils.misc import check_transpose\n",
    "\n",
    "\n",
    "\n",
    "\n",
    "\n",
    "\n",
    "angles = np.linspace(0.0,180.0,num=100)\n",
    "radon = Radonski(angles)  # Radon class\n",
    "\n",
    "check_transpose(radon,128,10)\n",
    "\n",
    "x = np.load('./data/test_slices/50.npy')\n",
    "y = radon(x) \n",
    "print(sum(y))\n",
    "\n"
   ]
  },
  {
   "cell_type": "code",
   "execution_count": null,
   "id": "1d93859d",
   "metadata": {},
   "outputs": [],
   "source": [
    "'''\n",
    "x = np.load('./data/test_slices/50.npy')\n",
    "# x = shepp_logan_phantom()\n",
    "y = radon.transform(x)\n",
    "x_rec = radon.fbp(y)\n",
    "\n",
    "\n",
    "fig, (ax1, ax2, ax3) = plt.subplots(1, 3, figsize=(8, 4.5))\n",
    "\n",
    "ax1.set_title(\"Original\")\n",
    "ax1.imshow(x, cmap=plt.cm.Greys_r)\n",
    "\n",
    "ax2.set_title(\"Sinogram\")\n",
    "ax2.imshow(y, cmap=plt.cm.Greys_r,aspect='auto')\n",
    "\n",
    "ax3.set_title(\"fbp recon\")\n",
    "ax3.imshow(x_rec, cmap=plt.cm.Greys_r)\n",
    "\n",
    "print(np.min(x))\n",
    "'''"
   ]
  }
 ],
 "metadata": {
  "kernelspec": {
   "display_name": "reconct",
   "language": "python",
   "name": "python3"
  },
  "language_info": {
   "codemirror_mode": {
    "name": "ipython",
    "version": 3
   },
   "file_extension": ".py",
   "mimetype": "text/x-python",
   "name": "python",
   "nbconvert_exporter": "python",
   "pygments_lexer": "ipython3",
   "version": "3.12.7"
  }
 },
 "nbformat": 4,
 "nbformat_minor": 5
}
