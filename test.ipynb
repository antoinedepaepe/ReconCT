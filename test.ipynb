{
 "cells": [
  {
   "cell_type": "code",
   "execution_count": null,
   "id": "8639af10",
   "metadata": {},
   "outputs": [
    {
     "ename": "ImportError",
     "evalue": "cannot import name 'aa' from 'src.operators.gradient' (/home/alexandre/git/ReconCT/src/operators/gradient.py)",
     "output_type": "error",
     "traceback": [
      "\u001b[0;31m---------------------------------------------------------------------------\u001b[0m",
      "\u001b[0;31mImportError\u001b[0m                               Traceback (most recent call last)",
      "Cell \u001b[0;32mIn[4], line 9\u001b[0m\n\u001b[1;32m      6\u001b[0m \u001b[38;5;28;01mfrom\u001b[39;00m \u001b[38;5;21;01mskimage\u001b[39;00m\u001b[38;5;21;01m.\u001b[39;00m\u001b[38;5;21;01mtransform\u001b[39;00m \u001b[38;5;28;01mimport\u001b[39;00m radon, rescale\n\u001b[1;32m      7\u001b[0m \u001b[38;5;28;01mfrom\u001b[39;00m \u001b[38;5;21;01msrc\u001b[39;00m\u001b[38;5;21;01m.\u001b[39;00m\u001b[38;5;21;01moperators\u001b[39;00m\u001b[38;5;21;01m.\u001b[39;00m\u001b[38;5;21;01mradonski\u001b[39;00m \u001b[38;5;28;01mimport\u001b[39;00m Radonski\n\u001b[0;32m----> 9\u001b[0m \u001b[38;5;28;01mfrom\u001b[39;00m \u001b[38;5;21;01msrc\u001b[39;00m\u001b[38;5;21;01m.\u001b[39;00m\u001b[38;5;21;01moperators\u001b[39;00m\u001b[38;5;21;01m.\u001b[39;00m\u001b[38;5;21;01mgradient\u001b[39;00m \u001b[38;5;28;01mimport\u001b[39;00m aa\n\u001b[1;32m     10\u001b[0m \u001b[38;5;28;01mfrom\u001b[39;00m \u001b[38;5;21;01msrc\u001b[39;00m\u001b[38;5;21;01m.\u001b[39;00m\u001b[38;5;21;01mrecon\u001b[39;00m\u001b[38;5;21;01m.\u001b[39;00m\u001b[38;5;21;01mpwls2\u001b[39;00m \u001b[38;5;28;01mimport\u001b[39;00m PWLS\n\u001b[1;32m     16\u001b[0m angles \u001b[38;5;241m=\u001b[39m np\u001b[38;5;241m.\u001b[39mlinspace(\u001b[38;5;241m0.0\u001b[39m,\u001b[38;5;241m180.0\u001b[39m,num\u001b[38;5;241m=\u001b[39m\u001b[38;5;241m100\u001b[39m)\n",
      "\u001b[0;31mImportError\u001b[0m: cannot import name 'aa' from 'src.operators.gradient' (/home/alexandre/git/ReconCT/src/operators/gradient.py)"
     ]
    }
   ],
   "source": [
    "import numpy as np\n",
    "import matplotlib.pyplot as plt\n",
    "# import skimage as ski\n",
    "\n",
    "from skimage.data import shepp_logan_phantom\n",
    "from skimage.transform import radon, rescale\n",
    "from src.operators.radonski import Radonski\n",
    "\n",
    "from src.operators.gradient2 import Gradient\n",
    "from src.recon.pwls2 import PWLS\n",
    "\n",
    "\n",
    "\n",
    "\n",
    "\n",
    "angles = np.linspace(0.0,180.0,num=100)\n",
    "radon = Radonski(angles)  # Radon class\n",
    "\n",
    "\n",
    "\n",
    "x_true = np.load('./data/test_slices/50.npy')\n",
    "I = 1e5\n",
    "sino = radon.transform(x_true)\n",
    "y = np.random.poisson(I*np.exp(-sino))\n",
    "\n",
    "b = np.zeros_like(y)\n",
    "b[y != 0] = np.log(I/ (y[y != 0])) \n",
    "\n",
    "\n",
    "\n"
   ]
  },
  {
   "cell_type": "code",
   "execution_count": 2,
   "id": "fcaaf9ba",
   "metadata": {},
   "outputs": [
    {
     "ename": "TypeError",
     "evalue": "roll(): argument 'input' (position 1) must be Tensor, not numpy.ndarray",
     "output_type": "error",
     "traceback": [
      "\u001b[0;31m---------------------------------------------------------------------------\u001b[0m",
      "\u001b[0;31mTypeError\u001b[0m                                 Traceback (most recent call last)",
      "Cell \u001b[0;32mIn[2], line 13\u001b[0m\n\u001b[1;32m      9\u001b[0m recon \u001b[38;5;241m=\u001b[39m PWLS(systmatrix\u001b[38;5;241m=\u001b[39mradon, sparsifier\u001b[38;5;241m=\u001b[39msparsifier)\n\u001b[1;32m     11\u001b[0m beta \u001b[38;5;241m=\u001b[39m \u001b[38;5;241m1e5\u001b[39m\n\u001b[0;32m---> 13\u001b[0m x \u001b[38;5;241m=\u001b[39m \u001b[43mrecon\u001b[49m\u001b[38;5;241;43m.\u001b[39;49m\u001b[43msolve\u001b[49m\u001b[43m(\u001b[49m\u001b[43mx0\u001b[49m\u001b[43m,\u001b[49m\n\u001b[1;32m     14\u001b[0m \u001b[43m                \u001b[49m\u001b[43mb\u001b[49m\u001b[43m,\u001b[49m\n\u001b[1;32m     15\u001b[0m \u001b[43m                \u001b[49m\u001b[43mbeta\u001b[49m\u001b[43m,\u001b[49m\n\u001b[1;32m     16\u001b[0m \u001b[43m                \u001b[49m\u001b[43mn_iter\u001b[49m\u001b[43m,\u001b[49m\n\u001b[1;32m     17\u001b[0m \u001b[43m                \u001b[49m\u001b[43mweights\u001b[49m\u001b[43m)\u001b[49m\n",
      "File \u001b[0;32m~/git/ReconCT/src/recon/pwls2.py:23\u001b[0m, in \u001b[0;36mPWLS.solve\u001b[0;34m(self, x0, b, beta, n_iter, weights)\u001b[0m\n\u001b[1;32m     20\u001b[0m ones \u001b[38;5;241m=\u001b[39m \u001b[38;5;28mself\u001b[39m\u001b[38;5;241m.\u001b[39mbackend\u001b[38;5;241m.\u001b[39mones_like(xk)\n\u001b[1;32m     22\u001b[0m D_rec \u001b[38;5;241m=\u001b[39m \u001b[38;5;28mself\u001b[39m\u001b[38;5;241m.\u001b[39mAT(\u001b[38;5;28mself\u001b[39m\u001b[38;5;241m.\u001b[39mbackend\u001b[38;5;241m.\u001b[39mmul(weights, \u001b[38;5;28mself\u001b[39m\u001b[38;5;241m.\u001b[39mA(ones)))\n\u001b[0;32m---> 23\u001b[0m D_reg \u001b[38;5;241m=\u001b[39m \u001b[38;5;28mself\u001b[39m\u001b[38;5;241m.\u001b[39mRabsT(\u001b[38;5;28;43mself\u001b[39;49m\u001b[38;5;241;43m.\u001b[39;49m\u001b[43mRabs\u001b[49m\u001b[43m(\u001b[49m\u001b[43mones\u001b[49m\u001b[43m)\u001b[49m)\n\u001b[1;32m     25\u001b[0m \u001b[38;5;28;01mfor\u001b[39;00m _ \u001b[38;5;129;01min\u001b[39;00m \u001b[38;5;28mrange\u001b[39m(n_iter):\n\u001b[1;32m     26\u001b[0m     resid \u001b[38;5;241m=\u001b[39m \u001b[38;5;28mself\u001b[39m\u001b[38;5;241m.\u001b[39mbackend\u001b[38;5;241m.\u001b[39mmul(weights, \u001b[38;5;28mself\u001b[39m\u001b[38;5;241m.\u001b[39mbackend\u001b[38;5;241m.\u001b[39madd(\u001b[38;5;28mself\u001b[39m\u001b[38;5;241m.\u001b[39mA(xk), \u001b[38;5;241m-\u001b[39mb))\n",
      "File \u001b[0;32m~/git/ReconCT/src/recon/pwls2.py:44\u001b[0m, in \u001b[0;36mPWLS.Rabs\u001b[0;34m(self, x)\u001b[0m\n\u001b[0;32m---> 44\u001b[0m \u001b[38;5;28;01mdef\u001b[39;00m \u001b[38;5;21mRabs\u001b[39m(\u001b[38;5;28mself\u001b[39m, x): \u001b[38;5;28;01mreturn\u001b[39;00m \u001b[38;5;28;43mself\u001b[39;49m\u001b[38;5;241;43m.\u001b[39;49m\u001b[43msparsifier\u001b[49m\u001b[38;5;241;43m.\u001b[39;49m\u001b[43mtransform_abs\u001b[49m\u001b[43m(\u001b[49m\u001b[43mx\u001b[49m\u001b[43m)\u001b[49m\n",
      "File \u001b[0;32m~/git/ReconCT/src/operators/gradient.py:52\u001b[0m, in \u001b[0;36mGradient.transform_abs\u001b[0;34m(self, x, factor)\u001b[0m\n\u001b[1;32m     50\u001b[0m \u001b[38;5;28;01mdef\u001b[39;00m \u001b[38;5;21mtransform_abs\u001b[39m(\u001b[38;5;28mself\u001b[39m, x: torch\u001b[38;5;241m.\u001b[39mTensor, factor: \u001b[38;5;28mfloat\u001b[39m \u001b[38;5;241m=\u001b[39m \u001b[38;5;241m1.0\u001b[39m) \u001b[38;5;241m-\u001b[39m\u001b[38;5;241m>\u001b[39m torch\u001b[38;5;241m.\u001b[39mTensor:\n\u001b[0;32m---> 52\u001b[0m     x1 \u001b[38;5;241m=\u001b[39m (x \u001b[38;5;241m+\u001b[39m factor \u001b[38;5;241m*\u001b[39m \u001b[43mtorch\u001b[49m\u001b[38;5;241;43m.\u001b[39;49m\u001b[43mroll\u001b[49m\u001b[43m(\u001b[49m\u001b[43mx\u001b[49m\u001b[43m,\u001b[49m\u001b[43m \u001b[49m\u001b[43mshifts\u001b[49m\u001b[38;5;241;43m=\u001b[39;49m\u001b[43m(\u001b[49m\u001b[38;5;241;43m0\u001b[39;49m\u001b[43m,\u001b[49m\u001b[43m \u001b[49m\u001b[38;5;241;43m1\u001b[39;49m\u001b[43m)\u001b[49m\u001b[43m,\u001b[49m\u001b[43m \u001b[49m\u001b[43mdims\u001b[49m\u001b[38;5;241;43m=\u001b[39;49m\u001b[43m(\u001b[49m\u001b[38;5;241;43m2\u001b[39;49m\u001b[43m,\u001b[49m\u001b[43m \u001b[49m\u001b[38;5;241;43m3\u001b[39;49m\u001b[43m)\u001b[49m\u001b[43m)\u001b[49m) \n\u001b[1;32m     53\u001b[0m     x2 \u001b[38;5;241m=\u001b[39m (x \u001b[38;5;241m+\u001b[39m factor \u001b[38;5;241m*\u001b[39m torch\u001b[38;5;241m.\u001b[39mroll(x, shifts\u001b[38;5;241m=\u001b[39m(\u001b[38;5;241m0\u001b[39m, \u001b[38;5;241m-\u001b[39m\u001b[38;5;241m1\u001b[39m), dims\u001b[38;5;241m=\u001b[39m(\u001b[38;5;241m2\u001b[39m, \u001b[38;5;241m3\u001b[39m))) \n\u001b[1;32m     54\u001b[0m     x3 \u001b[38;5;241m=\u001b[39m (x \u001b[38;5;241m+\u001b[39m factor \u001b[38;5;241m*\u001b[39m torch\u001b[38;5;241m.\u001b[39mroll(x, shifts\u001b[38;5;241m=\u001b[39m(\u001b[38;5;241m1\u001b[39m, \u001b[38;5;241m0\u001b[39m), dims\u001b[38;5;241m=\u001b[39m(\u001b[38;5;241m2\u001b[39m, \u001b[38;5;241m3\u001b[39m))) \n",
      "\u001b[0;31mTypeError\u001b[0m: roll(): argument 'input' (position 1) must be Tensor, not numpy.ndarray"
     ]
    }
   ],
   "source": [
    "x0 = np.zeros_like(x_true)\n",
    "\n",
    "n_iter = 300\n",
    "n_inner_iter = 100\n",
    "weights = y\n",
    "weights[y == 0] = 0\n",
    "\n",
    "sparsifier = Gradient(weight = 'sqrt')\n",
    "recon = PWLS(systmatrix=radon, sparsifier=sparsifier)\n",
    "\n",
    "beta = 1e5\n",
    "\n",
    "x = recon.solve(x0,\n",
    "                b,\n",
    "                beta,\n",
    "                n_iter,\n",
    "                weights)"
   ]
  },
  {
   "cell_type": "code",
   "execution_count": null,
   "id": "e5f54ef0",
   "metadata": {},
   "outputs": [],
   "source": []
  },
  {
   "cell_type": "code",
   "execution_count": null,
   "id": "1d93859d",
   "metadata": {},
   "outputs": [],
   "source": [
    "'''\n",
    "x = np.load('./data/test_slices/50.npy')\n",
    "# x = shepp_logan_phantom()\n",
    "y = radon.transform(x)\n",
    "x_rec = radon.fbp(y)\n",
    "\n",
    "\n",
    "fig, (ax1, ax2, ax3) = plt.subplots(1, 3, figsize=(8, 4.5))\n",
    "\n",
    "ax1.set_title(\"Original\")\n",
    "ax1.imshow(x, cmap=plt.cm.Greys_r)\n",
    "\n",
    "ax2.set_title(\"Sinogram\")\n",
    "ax2.imshow(y, cmap=plt.cm.Greys_r,aspect='auto')\n",
    "\n",
    "ax3.set_title(\"fbp recon\")\n",
    "ax3.imshow(x_rec, cmap=plt.cm.Greys_r)\n",
    "\n",
    "print(np.min(x))\n",
    "'''"
   ]
  }
 ],
 "metadata": {
  "kernelspec": {
   "display_name": "reconct",
   "language": "python",
   "name": "python3"
  },
  "language_info": {
   "codemirror_mode": {
    "name": "ipython",
    "version": 3
   },
   "file_extension": ".py",
   "mimetype": "text/x-python",
   "name": "python",
   "nbconvert_exporter": "python",
   "pygments_lexer": "ipython3",
   "version": "3.12.7"
  }
 },
 "nbformat": 4,
 "nbformat_minor": 5
}
